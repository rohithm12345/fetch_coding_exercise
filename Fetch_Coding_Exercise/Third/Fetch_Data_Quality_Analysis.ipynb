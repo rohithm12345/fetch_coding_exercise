{
  "nbformat": 4,
  "nbformat_minor": 0,
  "metadata": {
    "colab": {
      "provenance": []
    },
    "kernelspec": {
      "name": "python3",
      "display_name": "Python 3"
    },
    "language_info": {
      "name": "python"
    }
  },
  "cells": [
    {
      "cell_type": "markdown",
      "source": [
        "# **Fetch Data Quality Analysis Report**"
      ],
      "metadata": {
        "id": "t2nVueKwooPS"
      }
    },
    {
      "cell_type": "markdown",
      "source": [
        "\n",
        "### Table of Contents\n",
        "\n",
        "1.   Executive Summary\n",
        "2.   Data Loading & Cleaning for Analysis\n",
        " - Column Standardization\n",
        " - Schema Validation\n",
        " - Handling Missing Values\n",
        " - Duplicate Detection\n",
        "\n",
        "3. Data Quality Checks\n",
        "\n",
        " - Referential Integrity Check\n",
        " - Orphaned Data Detection\n",
        " - Stale User Detection\n",
        "\n",
        "4. Outlier Analysis & Transformation\n",
        " - Outlier Detection (IQR Method)\n",
        " - Log Transformation & Data Distribution\n",
        "\n",
        "5. Data Quality Action plan\n",
        "\n",
        "6. Key Findings & Next Steps"
      ],
      "metadata": {
        "id": "sVHc0ezlQvu5"
      }
    },
    {
      "cell_type": "markdown",
      "source": [
        "### 1. Executive Summary"
      ],
      "metadata": {
        "id": "vfKkz6BQwIrV"
      }
    },
    {
      "cell_type": "markdown",
      "source": [
        "  \n",
        "  \n",
        "*   This report evaluates the data quality issues of Fetch's datasets, focusing on completeness, consistency, and accuracy.                                                                        \n",
        "Key findings and actions to be performed:\n",
        "\n",
        "      ![image.png](data:image/png;base64,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)\n",
        "\n",
        "\n",
        "\n"
      ],
      "metadata": {
        "id": "MP5qLcSnRvZK"
      }
    },
    {
      "cell_type": "markdown",
      "source": [
        "## 2. Data Loading & Cleaning for Analysis: Using Pandas to Read JSON\n",
        "\n",
        "#### Objective:\n",
        "1. Load JSON data efficiently from users.json, receipts.json, and brands.json.\n",
        "2. Handle potential errors and convert the data into structured Pandas DataFrames.\n",
        "3. Preview the dataset to understand its structure.\n",
        "\n",
        "#### Implementation:"
      ],
      "metadata": {
        "id": "FA29RSIcewcd"
      }
    },
    {
      "cell_type": "code",
      "execution_count": 16,
      "metadata": {
        "colab": {
          "base_uri": "https://localhost:8080/",
          "height": 313
        },
        "id": "D6KG-fouemSF",
        "outputId": "9a066424-4816-4548-fae1-9f1f5d7f2705"
      },
      "outputs": [
        {
          "output_type": "stream",
          "name": "stdout",
          "text": [
            "\n",
            " Columns in Each Dataset:\n",
            "[USERS_DF] Columns: ['active', 'role', 'signUpSource', 'state', '_id.$oid', 'createdDate.$date', 'lastLogin.$date']\n",
            "[RECEIPTS_DF] Columns: ['bonusPointsEarned', 'bonusPointsEarnedReason', 'pointsEarned', 'purchasedItemCount', 'rewardsReceiptItemList', 'rewardsReceiptStatus', 'totalSpent', 'userId', '_id.$oid', 'createDate.$date', 'dateScanned.$date', 'finishedDate.$date', 'modifyDate.$date', 'pointsAwardedDate.$date', 'purchaseDate.$date']\n",
            "[BRANDS_DF] Columns: ['barcode', 'category', 'categoryCode', 'name', 'topBrand', '_id.$oid', 'cpg.$id.$oid', 'cpg.$ref', 'brandCode']\n"
          ]
        },
        {
          "output_type": "execute_result",
          "data": {
            "text/plain": [
              "        barcode        category      categoryCode                       name  \\\n",
              "0  511111019862          Baking            BAKING  test brand @1612366101024   \n",
              "1  511111519928       Beverages         BEVERAGES                  Starbucks   \n",
              "2  511111819905          Baking            BAKING  test brand @1612366146176   \n",
              "3  511111519874          Baking            BAKING  test brand @1612366146051   \n",
              "4  511111319917  Candy & Sweets  CANDY_AND_SWEETS  test brand @1612366146827   \n",
              "\n",
              "  topBrand                  _id.$oid              cpg.$id.$oid cpg.$ref  \\\n",
              "0    False  601ac115be37ce2ead437551  601ac114be37ce2ead437550     Cogs   \n",
              "1    False  601c5460be37ce2ead43755f  5332f5fbe4b03c9a25efd0ba     Cogs   \n",
              "2    False  601ac142be37ce2ead43755d  601ac142be37ce2ead437559     Cogs   \n",
              "3    False  601ac142be37ce2ead43755a  601ac142be37ce2ead437559     Cogs   \n",
              "4    False  601ac142be37ce2ead43755e  5332fa12e4b03c9a25efd1e7     Cogs   \n",
              "\n",
              "                       brandCode  \n",
              "0                            NaN  \n",
              "1                      STARBUCKS  \n",
              "2  TEST BRANDCODE @1612366146176  \n",
              "3  TEST BRANDCODE @1612366146051  \n",
              "4  TEST BRANDCODE @1612366146827  "
            ],
            "text/html": [
              "\n",
              "  <div id=\"df-c12211ce-6822-4abb-9fb2-5964dfd1be35\" class=\"colab-df-container\">\n",
              "    <div>\n",
              "<style scoped>\n",
              "    .dataframe tbody tr th:only-of-type {\n",
              "        vertical-align: middle;\n",
              "    }\n",
              "\n",
              "    .dataframe tbody tr th {\n",
              "        vertical-align: top;\n",
              "    }\n",
              "\n",
              "    .dataframe thead th {\n",
              "        text-align: right;\n",
              "    }\n",
              "</style>\n",
              "<table border=\"1\" class=\"dataframe\">\n",
              "  <thead>\n",
              "    <tr style=\"text-align: right;\">\n",
              "      <th></th>\n",
              "      <th>barcode</th>\n",
              "      <th>category</th>\n",
              "      <th>categoryCode</th>\n",
              "      <th>name</th>\n",
              "      <th>topBrand</th>\n",
              "      <th>_id.$oid</th>\n",
              "      <th>cpg.$id.$oid</th>\n",
              "      <th>cpg.$ref</th>\n",
              "      <th>brandCode</th>\n",
              "    </tr>\n",
              "  </thead>\n",
              "  <tbody>\n",
              "    <tr>\n",
              "      <th>0</th>\n",
              "      <td>511111019862</td>\n",
              "      <td>Baking</td>\n",
              "      <td>BAKING</td>\n",
              "      <td>test brand @1612366101024</td>\n",
              "      <td>False</td>\n",
              "      <td>601ac115be37ce2ead437551</td>\n",
              "      <td>601ac114be37ce2ead437550</td>\n",
              "      <td>Cogs</td>\n",
              "      <td>NaN</td>\n",
              "    </tr>\n",
              "    <tr>\n",
              "      <th>1</th>\n",
              "      <td>511111519928</td>\n",
              "      <td>Beverages</td>\n",
              "      <td>BEVERAGES</td>\n",
              "      <td>Starbucks</td>\n",
              "      <td>False</td>\n",
              "      <td>601c5460be37ce2ead43755f</td>\n",
              "      <td>5332f5fbe4b03c9a25efd0ba</td>\n",
              "      <td>Cogs</td>\n",
              "      <td>STARBUCKS</td>\n",
              "    </tr>\n",
              "    <tr>\n",
              "      <th>2</th>\n",
              "      <td>511111819905</td>\n",
              "      <td>Baking</td>\n",
              "      <td>BAKING</td>\n",
              "      <td>test brand @1612366146176</td>\n",
              "      <td>False</td>\n",
              "      <td>601ac142be37ce2ead43755d</td>\n",
              "      <td>601ac142be37ce2ead437559</td>\n",
              "      <td>Cogs</td>\n",
              "      <td>TEST BRANDCODE @1612366146176</td>\n",
              "    </tr>\n",
              "    <tr>\n",
              "      <th>3</th>\n",
              "      <td>511111519874</td>\n",
              "      <td>Baking</td>\n",
              "      <td>BAKING</td>\n",
              "      <td>test brand @1612366146051</td>\n",
              "      <td>False</td>\n",
              "      <td>601ac142be37ce2ead43755a</td>\n",
              "      <td>601ac142be37ce2ead437559</td>\n",
              "      <td>Cogs</td>\n",
              "      <td>TEST BRANDCODE @1612366146051</td>\n",
              "    </tr>\n",
              "    <tr>\n",
              "      <th>4</th>\n",
              "      <td>511111319917</td>\n",
              "      <td>Candy &amp; Sweets</td>\n",
              "      <td>CANDY_AND_SWEETS</td>\n",
              "      <td>test brand @1612366146827</td>\n",
              "      <td>False</td>\n",
              "      <td>601ac142be37ce2ead43755e</td>\n",
              "      <td>5332fa12e4b03c9a25efd1e7</td>\n",
              "      <td>Cogs</td>\n",
              "      <td>TEST BRANDCODE @1612366146827</td>\n",
              "    </tr>\n",
              "  </tbody>\n",
              "</table>\n",
              "</div>\n",
              "    <div class=\"colab-df-buttons\">\n",
              "\n",
              "  <div class=\"colab-df-container\">\n",
              "    <button class=\"colab-df-convert\" onclick=\"convertToInteractive('df-c12211ce-6822-4abb-9fb2-5964dfd1be35')\"\n",
              "            title=\"Convert this dataframe to an interactive table.\"\n",
              "            style=\"display:none;\">\n",
              "\n",
              "  <svg xmlns=\"http://www.w3.org/2000/svg\" height=\"24px\" viewBox=\"0 -960 960 960\">\n",
              "    <path d=\"M120-120v-720h720v720H120Zm60-500h600v-160H180v160Zm220 220h160v-160H400v160Zm0 220h160v-160H400v160ZM180-400h160v-160H180v160Zm440 0h160v-160H620v160ZM180-180h160v-160H180v160Zm440 0h160v-160H620v160Z\"/>\n",
              "  </svg>\n",
              "    </button>\n",
              "\n",
              "  <style>\n",
              "    .colab-df-container {\n",
              "      display:flex;\n",
              "      gap: 12px;\n",
              "    }\n",
              "\n",
              "    .colab-df-convert {\n",
              "      background-color: #E8F0FE;\n",
              "      border: none;\n",
              "      border-radius: 50%;\n",
              "      cursor: pointer;\n",
              "      display: none;\n",
              "      fill: #1967D2;\n",
              "      height: 32px;\n",
              "      padding: 0 0 0 0;\n",
              "      width: 32px;\n",
              "    }\n",
              "\n",
              "    .colab-df-convert:hover {\n",
              "      background-color: #E2EBFA;\n",
              "      box-shadow: 0px 1px 2px rgba(60, 64, 67, 0.3), 0px 1px 3px 1px rgba(60, 64, 67, 0.15);\n",
              "      fill: #174EA6;\n",
              "    }\n",
              "\n",
              "    .colab-df-buttons div {\n",
              "      margin-bottom: 4px;\n",
              "    }\n",
              "\n",
              "    [theme=dark] .colab-df-convert {\n",
              "      background-color: #3B4455;\n",
              "      fill: #D2E3FC;\n",
              "    }\n",
              "\n",
              "    [theme=dark] .colab-df-convert:hover {\n",
              "      background-color: #434B5C;\n",
              "      box-shadow: 0px 1px 3px 1px rgba(0, 0, 0, 0.15);\n",
              "      filter: drop-shadow(0px 1px 2px rgba(0, 0, 0, 0.3));\n",
              "      fill: #FFFFFF;\n",
              "    }\n",
              "  </style>\n",
              "\n",
              "    <script>\n",
              "      const buttonEl =\n",
              "        document.querySelector('#df-c12211ce-6822-4abb-9fb2-5964dfd1be35 button.colab-df-convert');\n",
              "      buttonEl.style.display =\n",
              "        google.colab.kernel.accessAllowed ? 'block' : 'none';\n",
              "\n",
              "      async function convertToInteractive(key) {\n",
              "        const element = document.querySelector('#df-c12211ce-6822-4abb-9fb2-5964dfd1be35');\n",
              "        const dataTable =\n",
              "          await google.colab.kernel.invokeFunction('convertToInteractive',\n",
              "                                                    [key], {});\n",
              "        if (!dataTable) return;\n",
              "\n",
              "        const docLinkHtml = 'Like what you see? Visit the ' +\n",
              "          '<a target=\"_blank\" href=https://colab.research.google.com/notebooks/data_table.ipynb>data table notebook</a>'\n",
              "          + ' to learn more about interactive tables.';\n",
              "        element.innerHTML = '';\n",
              "        dataTable['output_type'] = 'display_data';\n",
              "        await google.colab.output.renderOutput(dataTable, element);\n",
              "        const docLink = document.createElement('div');\n",
              "        docLink.innerHTML = docLinkHtml;\n",
              "        element.appendChild(docLink);\n",
              "      }\n",
              "    </script>\n",
              "  </div>\n",
              "\n",
              "\n",
              "<div id=\"df-faf3d1e9-c1bd-4e33-bceb-331e896e7c7a\">\n",
              "  <button class=\"colab-df-quickchart\" onclick=\"quickchart('df-faf3d1e9-c1bd-4e33-bceb-331e896e7c7a')\"\n",
              "            title=\"Suggest charts\"\n",
              "            style=\"display:none;\">\n",
              "\n",
              "<svg xmlns=\"http://www.w3.org/2000/svg\" height=\"24px\"viewBox=\"0 0 24 24\"\n",
              "     width=\"24px\">\n",
              "    <g>\n",
              "        <path d=\"M19 3H5c-1.1 0-2 .9-2 2v14c0 1.1.9 2 2 2h14c1.1 0 2-.9 2-2V5c0-1.1-.9-2-2-2zM9 17H7v-7h2v7zm4 0h-2V7h2v10zm4 0h-2v-4h2v4z\"/>\n",
              "    </g>\n",
              "</svg>\n",
              "  </button>\n",
              "\n",
              "<style>\n",
              "  .colab-df-quickchart {\n",
              "      --bg-color: #E8F0FE;\n",
              "      --fill-color: #1967D2;\n",
              "      --hover-bg-color: #E2EBFA;\n",
              "      --hover-fill-color: #174EA6;\n",
              "      --disabled-fill-color: #AAA;\n",
              "      --disabled-bg-color: #DDD;\n",
              "  }\n",
              "\n",
              "  [theme=dark] .colab-df-quickchart {\n",
              "      --bg-color: #3B4455;\n",
              "      --fill-color: #D2E3FC;\n",
              "      --hover-bg-color: #434B5C;\n",
              "      --hover-fill-color: #FFFFFF;\n",
              "      --disabled-bg-color: #3B4455;\n",
              "      --disabled-fill-color: #666;\n",
              "  }\n",
              "\n",
              "  .colab-df-quickchart {\n",
              "    background-color: var(--bg-color);\n",
              "    border: none;\n",
              "    border-radius: 50%;\n",
              "    cursor: pointer;\n",
              "    display: none;\n",
              "    fill: var(--fill-color);\n",
              "    height: 32px;\n",
              "    padding: 0;\n",
              "    width: 32px;\n",
              "  }\n",
              "\n",
              "  .colab-df-quickchart:hover {\n",
              "    background-color: var(--hover-bg-color);\n",
              "    box-shadow: 0 1px 2px rgba(60, 64, 67, 0.3), 0 1px 3px 1px rgba(60, 64, 67, 0.15);\n",
              "    fill: var(--button-hover-fill-color);\n",
              "  }\n",
              "\n",
              "  .colab-df-quickchart-complete:disabled,\n",
              "  .colab-df-quickchart-complete:disabled:hover {\n",
              "    background-color: var(--disabled-bg-color);\n",
              "    fill: var(--disabled-fill-color);\n",
              "    box-shadow: none;\n",
              "  }\n",
              "\n",
              "  .colab-df-spinner {\n",
              "    border: 2px solid var(--fill-color);\n",
              "    border-color: transparent;\n",
              "    border-bottom-color: var(--fill-color);\n",
              "    animation:\n",
              "      spin 1s steps(1) infinite;\n",
              "  }\n",
              "\n",
              "  @keyframes spin {\n",
              "    0% {\n",
              "      border-color: transparent;\n",
              "      border-bottom-color: var(--fill-color);\n",
              "      border-left-color: var(--fill-color);\n",
              "    }\n",
              "    20% {\n",
              "      border-color: transparent;\n",
              "      border-left-color: var(--fill-color);\n",
              "      border-top-color: var(--fill-color);\n",
              "    }\n",
              "    30% {\n",
              "      border-color: transparent;\n",
              "      border-left-color: var(--fill-color);\n",
              "      border-top-color: var(--fill-color);\n",
              "      border-right-color: var(--fill-color);\n",
              "    }\n",
              "    40% {\n",
              "      border-color: transparent;\n",
              "      border-right-color: var(--fill-color);\n",
              "      border-top-color: var(--fill-color);\n",
              "    }\n",
              "    60% {\n",
              "      border-color: transparent;\n",
              "      border-right-color: var(--fill-color);\n",
              "    }\n",
              "    80% {\n",
              "      border-color: transparent;\n",
              "      border-right-color: var(--fill-color);\n",
              "      border-bottom-color: var(--fill-color);\n",
              "    }\n",
              "    90% {\n",
              "      border-color: transparent;\n",
              "      border-bottom-color: var(--fill-color);\n",
              "    }\n",
              "  }\n",
              "</style>\n",
              "\n",
              "  <script>\n",
              "    async function quickchart(key) {\n",
              "      const quickchartButtonEl =\n",
              "        document.querySelector('#' + key + ' button');\n",
              "      quickchartButtonEl.disabled = true;  // To prevent multiple clicks.\n",
              "      quickchartButtonEl.classList.add('colab-df-spinner');\n",
              "      try {\n",
              "        const charts = await google.colab.kernel.invokeFunction(\n",
              "            'suggestCharts', [key], {});\n",
              "      } catch (error) {\n",
              "        console.error('Error during call to suggestCharts:', error);\n",
              "      }\n",
              "      quickchartButtonEl.classList.remove('colab-df-spinner');\n",
              "      quickchartButtonEl.classList.add('colab-df-quickchart-complete');\n",
              "    }\n",
              "    (() => {\n",
              "      let quickchartButtonEl =\n",
              "        document.querySelector('#df-faf3d1e9-c1bd-4e33-bceb-331e896e7c7a button');\n",
              "      quickchartButtonEl.style.display =\n",
              "        google.colab.kernel.accessAllowed ? 'block' : 'none';\n",
              "    })();\n",
              "  </script>\n",
              "</div>\n",
              "\n",
              "    </div>\n",
              "  </div>\n"
            ],
            "application/vnd.google.colaboratory.intrinsic+json": {
              "type": "dataframe",
              "variable_name": "brands_df",
              "summary": "{\n  \"name\": \"brands_df\",\n  \"rows\": 1167,\n  \"fields\": [\n    {\n      \"column\": \"barcode\",\n      \"properties\": {\n        \"dtype\": \"string\",\n        \"num_unique_values\": 1160,\n        \"samples\": [\n          \"511111203049\",\n          \"511111716648\",\n          \"511111801245\"\n        ],\n        \"semantic_type\": \"\",\n        \"description\": \"\"\n      }\n    },\n    {\n      \"column\": \"category\",\n      \"properties\": {\n        \"dtype\": \"category\",\n        \"num_unique_values\": 23,\n        \"samples\": [\n          \"Personal Care\",\n          \"Beauty\",\n          \"Baking\"\n        ],\n        \"semantic_type\": \"\",\n        \"description\": \"\"\n      }\n    },\n    {\n      \"column\": \"categoryCode\",\n      \"properties\": {\n        \"dtype\": \"category\",\n        \"num_unique_values\": 14,\n        \"samples\": [\n          \"BREAD_AND_BAKERY\",\n          \"DAIRY_AND_REFRIGERATED\",\n          \"BAKING\"\n        ],\n        \"semantic_type\": \"\",\n        \"description\": \"\"\n      }\n    },\n    {\n      \"column\": \"name\",\n      \"properties\": {\n        \"dtype\": \"string\",\n        \"num_unique_values\": 1156,\n        \"samples\": [\n          \"Bayer\\u00ae ASPRIN TAB/ CAPS/ CHEWS\",\n          \"Colorado Native\",\n          \"Chester's\"\n        ],\n        \"semantic_type\": \"\",\n        \"description\": \"\"\n      }\n    },\n    {\n      \"column\": \"topBrand\",\n      \"properties\": {\n        \"dtype\": \"category\",\n        \"num_unique_values\": 2,\n        \"samples\": [\n          true,\n          false\n        ],\n        \"semantic_type\": \"\",\n        \"description\": \"\"\n      }\n    },\n    {\n      \"column\": \"_id.$oid\",\n      \"properties\": {\n        \"dtype\": \"string\",\n        \"num_unique_values\": 1167,\n        \"samples\": [\n          \"53501d29b9237fd7718f9e16\",\n          \"5332fa08e4b03c9a25efd1d9\"\n        ],\n        \"semantic_type\": \"\",\n        \"description\": \"\"\n      }\n    },\n    {\n      \"column\": \"cpg.$id.$oid\",\n      \"properties\": {\n        \"dtype\": \"category\",\n        \"num_unique_values\": 196,\n        \"samples\": [\n          \"5f4a64e7be37ce17d23b3178\",\n          \"5ff74500be37ce1e961f3276\"\n        ],\n        \"semantic_type\": \"\",\n        \"description\": \"\"\n      }\n    },\n    {\n      \"column\": \"cpg.$ref\",\n      \"properties\": {\n        \"dtype\": \"category\",\n        \"num_unique_values\": 2,\n        \"samples\": [\n          \"Cpgs\",\n          \"Cogs\"\n        ],\n        \"semantic_type\": \"\",\n        \"description\": \"\"\n      }\n    },\n    {\n      \"column\": \"brandCode\",\n      \"properties\": {\n        \"dtype\": \"string\",\n        \"num_unique_values\": 897,\n        \"samples\": [\n          \"AMPTEST\",\n          \"NUT HARVEST\"\n        ],\n        \"semantic_type\": \"\",\n        \"description\": \"\"\n      }\n    }\n  ]\n}"
            }
          },
          "metadata": {},
          "execution_count": 16
        }
      ],
      "source": [
        "import pandas as pd\n",
        "import json\n",
        "import numpy as np\n",
        "import seaborn as sns\n",
        "import matplotlib.pyplot as plt\n",
        "from datetime import datetime\n",
        "\n",
        "\n",
        "def load_json(file_path):\n",
        "    #Loading a JSON file that may contain multiple objects per line NDJSON format\n",
        "    try:\n",
        "        with open(file_path, \"r\") as f:\n",
        "            data = [json.loads(line) for line in f]\n",
        "        return pd.json_normalize(data)\n",
        "    except Exception as e:\n",
        "        print(f\"[ERROR] Failed to load {file_path}: {e}\")\n",
        "        return pd.DataFrame()\n",
        "\n",
        "# Load datasets\n",
        "users_df = load_json(\"users.json\")\n",
        "receipts_df = load_json(\"receipts.json\")\n",
        "brands_df = load_json(\"brands.json\")\n",
        "\n",
        "# Print initial column names\n",
        "print(\"\\n Columns in Each Dataset:\")\n",
        "print(f\"[USERS_DF] Columns: {users_df.columns.tolist()}\")\n",
        "print(f\"[RECEIPTS_DF] Columns: {receipts_df.columns.tolist()}\")\n",
        "print(f\"[BRANDS_DF] Columns: {brands_df.columns.tolist()}\")\n",
        "\n",
        "# Display sample data\n",
        "users_df.head()\n",
        "receipts_df.head()\n",
        "brands_df.head()\n",
        "\n"
      ]
    },
    {
      "cell_type": "markdown",
      "source": [
        "#### Observations:\n",
        "- Users Data: Contains user details (_id, state, createdDate, lastLogin), but timestamps may require transformation.\n",
        "- Receipts Data: Includes transactions (totalSpent, purchaseDate, rewardsReceiptItemList), with potential missing or nested data.\n",
        "- Brands Data: Stores brand details (barcode, category, brandCode), with possible duplicate or inconsistent entries."
      ],
      "metadata": {
        "id": "6NUqrVXgoqwf"
      }
    },
    {
      "cell_type": "markdown",
      "source": [
        "### 2.1 Column Standardization\n",
        "\n",
        "#### Objective:\n",
        "1. Standardize column names across datasets for consistency.\n",
        "2. Convert nested JSON keys into readable names.\n",
        "3. Ensure unique naming conventions, especially for IDs in the brands dataset.\n",
        "\n",
        "#### Implementation:"
      ],
      "metadata": {
        "id": "Gvv_7R-AjEPw"
      }
    },
    {
      "cell_type": "code",
      "source": [
        "# Define column name mappings for consistency\n",
        "column_mapping = {\n",
        "    \"_id.$oid\": \"_id\",\n",
        "    \"createDate.$date\": \"createdDate\",\n",
        "    \"dateScanned.$date\": \"dateScanned\",\n",
        "    \"finishedDate.$date\": \"finishedDate\",\n",
        "    \"modifyDate.$date\": \"modifyDate\",\n",
        "    \"pointsAwardedDate.$date\": \"pointsAwardedDate\",\n",
        "    \"purchaseDate.$date\": \"purchaseDate\",\n",
        "    \"lastLogin.$date\": \"lastLogin\",\n",
        "    \"topBrand\": \"top_brand\",\n",
        "\n",
        "    # Adjustments for Brands dataset\n",
        "    \"_id\": \"brand_id\",\n",
        "    \"cpg.$id.$oid\": \"cpg_id\",\n",
        "    \"cpg.$ref\": \"cpg_ref\"\n",
        "}\n",
        "\n",
        "# Apply renaming dynamically\n",
        "for df in [users_df, receipts_df, brands_df]:\n",
        "    df.rename(columns={k: v for k, v in column_mapping.items() if k in df.columns}, inplace=True)\n",
        "\n",
        "# Explicitly fix `_id` in Users and Brands datasets\n",
        "if \"_id\" in users_df.columns:\n",
        "    users_df.rename(columns={\"_id\": \"user_id\"}, inplace=True)\n",
        "\n",
        "if \"_id\" in brands_df.columns:\n",
        "    brands_df.rename(columns={\"_id\": \"brand_id\"}, inplace=True)\n",
        "\n",
        "# Display updated column names\n",
        "print(\"\\nUpdated Column Names:\")\n",
        "print(\"Users:\", users_df.columns.tolist())\n",
        "print(\"Receipts:\", receipts_df.columns.tolist())\n",
        "print(\"Brands:\", brands_df.columns.tolist())"
      ],
      "metadata": {
        "colab": {
          "base_uri": "https://localhost:8080/"
        },
        "id": "Jhg7rw9Li_ny",
        "outputId": "d2e5d57b-9a0e-4964-8c4b-665967436755"
      },
      "execution_count": 17,
      "outputs": [
        {
          "output_type": "stream",
          "name": "stdout",
          "text": [
            "\n",
            "Updated Column Names:\n",
            "Users: ['active', 'role', 'signUpSource', 'state', 'user_id', 'createdDate.$date', 'lastLogin']\n",
            "Receipts: ['bonusPointsEarned', 'bonusPointsEarnedReason', 'pointsEarned', 'purchasedItemCount', 'rewardsReceiptItemList', 'rewardsReceiptStatus', 'totalSpent', 'userId', '_id', 'createdDate', 'dateScanned', 'finishedDate', 'modifyDate', 'pointsAwardedDate', 'purchaseDate']\n",
            "Brands: ['barcode', 'category', 'categoryCode', 'name', 'top_brand', 'brand_id', 'cpg_id', 'cpg_ref', 'brandCode']\n"
          ]
        }
      ]
    },
    {
      "cell_type": "markdown",
      "source": [
        "#### Observations:\n",
        "- Column names are now more readable and uniform across datasets.\n",
        "- This simplifies future queries and ensures better data integrity."
      ],
      "metadata": {
        "id": "QaY68t4itEDt"
      }
    },
    {
      "cell_type": "markdown",
      "source": [
        "### 2.2 Schema Validation\n",
        "\n",
        "#### Objective:\n",
        "1. Convert timestamp fields into readable datetime format.\n",
        "2. Ensure numerical fields are correctly stored as numeric data types and validate transformed data to confirm accuracy.\n",
        "\n",
        "#### Implementation:"
      ],
      "metadata": {
        "id": "dhAQ4X7-zfMd"
      }
    },
    {
      "cell_type": "code",
      "source": [
        "# Column Name Standardization\n",
        "column_mapping = {\n",
        "    \"_id.$oid\": \"_id\",\n",
        "    \"createdDate.$date\": \"createdDate\",\n",
        "    \"createDate.$date\": \"createdDate\",\n",
        "    \"dateScanned.$date\": \"dateScanned\",\n",
        "    \"finishedDate.$date\": \"finishedDate\",\n",
        "    \"modifyDate.$date\": \"modifyDate\",\n",
        "    \"pointsAwardedDate.$date\": \"pointsAwardedDate\",\n",
        "    \"purchaseDate.$date\": \"purchaseDate\",\n",
        "    \"lastLogin.$date\": \"lastLogin\",\n",
        "    \"topBrand\": \"top_brand\",\n",
        "    \"cpg.$id.$oid\": \"cpg_id\",\n",
        "    \"cpg.$ref\": \"cpg_ref\",\n",
        "    \"userId\": \"user_id\"\n",
        "}\n",
        "\n",
        "# Applying renaming dynamically\n",
        "for df_name, df in zip([\"Users\", \"Receipts\", \"Brands\"], [users_df, receipts_df, brands_df]):\n",
        "    df.rename(columns={k: v for k, v in column_mapping.items() if k in df.columns}, inplace=True)\n",
        "\n",
        "\n",
        "\n",
        "# Converting Date Fields\n",
        "\n",
        "# Function to Convert Date Fields\n",
        "def convert_datetime(df, columns):\n",
        "    \"\"\"Convert timestamp fields dynamically from seconds or milliseconds.\"\"\"\n",
        "    for col in columns:\n",
        "        if col in df.columns and df[col].dtype in [\"int64\", \"float64\"]:\n",
        "            max_value = df[col].max()\n",
        "            unit = \"s\" if max_value < 1e10 else \"ms\"\n",
        "            df[col] = pd.to_datetime(df[col], unit=unit, errors=\"coerce\")\n",
        "\n",
        "# Applying datetime conversion\n",
        "convert_datetime(users_df, [\"createdDate\", \"lastLogin\"])\n",
        "convert_datetime(receipts_df, [\"createdDate\", \"purchaseDate\", \"dateScanned\", \"finishedDate\", \"modifyDate\", \"pointsAwardedDate\"])\n",
        "\n",
        "\n",
        "\n",
        "# Converting Data Types\n",
        "\n",
        "# Converting Numeric Fields\n",
        "numeric_fields = [\"totalSpent\", \"pointsEarned\", \"bonusPointsEarned\", \"purchasedItemCount\"]\n",
        "for col in numeric_fields:\n",
        "    if col in receipts_df.columns:\n",
        "        receipts_df[col] = pd.to_numeric(receipts_df[col], errors=\"coerce\")\n",
        "\n",
        "# Converting Boolean Fields\n",
        "if \"top_brand\" in brands_df.columns:\n",
        "    brands_df[\"top_brand\"] = brands_df[\"top_brand\"].astype(bool)\n",
        "\n",
        "# Converting Text Fields\n",
        "text_columns_users = [\"role\", \"signUpSource\", \"state\"]\n",
        "text_columns_receipts = [\"bonusPointsEarnedReason\", \"rewardsReceiptStatus\"]\n",
        "text_columns_brands = [\"category\", \"name\", \"cpg_id\", \"cpg_ref\"]\n",
        "\n",
        "for col in text_columns_users:\n",
        "    if col in users_df.columns:\n",
        "        users_df[col] = users_df[col].astype(str)\n",
        "\n",
        "for col in text_columns_receipts:\n",
        "    if col in receipts_df.columns:\n",
        "        receipts_df[col] = receipts_df[col].astype(str)\n",
        "\n",
        "for col in text_columns_brands:\n",
        "    if col in brands_df.columns:\n",
        "        brands_df[col] = brands_df[col].astype(str)\n",
        "\n",
        "# Converting Identifier Fields\n",
        "id_columns = [\"user_id\", \"barcode\", \"categoryCode\", \"brandCode\"]\n",
        "for col in id_columns:\n",
        "    for df in [users_df, receipts_df, brands_df]:\n",
        "        if col in df.columns:\n",
        "            df[col] = df[col].astype(str)\n",
        "\n",
        "\n",
        "\n",
        "# Printing Final Column Data Types\n",
        "print(\"\\nColumn Data Types AFTER Transformation:\")\n",
        "for dataset_name, df in [(\"Users\", users_df), (\"Receipts\", receipts_df), (\"Brands\", brands_df)]:\n",
        "    print(f\"\\n{dataset_name} Column Data Types:\\n{df.dtypes}\")\n",
        "\n",
        "\n"
      ],
      "metadata": {
        "colab": {
          "base_uri": "https://localhost:8080/"
        },
        "id": "xRM389HDH50M",
        "outputId": "ae9aa3a7-5a0d-454e-f2de-3b6e925887e8"
      },
      "execution_count": 19,
      "outputs": [
        {
          "output_type": "stream",
          "name": "stdout",
          "text": [
            "\n",
            "Column Data Types AFTER Transformation:\n",
            "\n",
            "Users Column Data Types:\n",
            "active                    bool\n",
            "role                    object\n",
            "signUpSource            object\n",
            "state                   object\n",
            "user_id                 object\n",
            "createdDate     datetime64[ns]\n",
            "lastLogin       datetime64[ns]\n",
            "dtype: object\n",
            "\n",
            "Receipts Column Data Types:\n",
            "bonusPointsEarned                 float64\n",
            "bonusPointsEarnedReason            object\n",
            "pointsEarned                      float64\n",
            "purchasedItemCount                float64\n",
            "rewardsReceiptItemList             object\n",
            "rewardsReceiptStatus               object\n",
            "totalSpent                        float64\n",
            "user_id                            object\n",
            "_id                                object\n",
            "createdDate                datetime64[ns]\n",
            "dateScanned                datetime64[ns]\n",
            "finishedDate               datetime64[ns]\n",
            "modifyDate                 datetime64[ns]\n",
            "pointsAwardedDate          datetime64[ns]\n",
            "purchaseDate               datetime64[ns]\n",
            "dtype: object\n",
            "\n",
            "Brands Column Data Types:\n",
            "barcode         object\n",
            "category        object\n",
            "categoryCode    object\n",
            "name            object\n",
            "top_brand         bool\n",
            "brand_id        object\n",
            "cpg_id          object\n",
            "cpg_ref         object\n",
            "brandCode       object\n",
            "dtype: object\n"
          ]
        }
      ]
    },
    {
      "cell_type": "markdown",
      "source": [
        "#### Observations:\n",
        "- Date Fields: Transformed successfully from milliseconds to datetime, enabling time-based analysis.\n",
        "- Numerical Data: Now stored in the correct format, preventing calculation errors.\n",
        "- Validation: Ensured the correctness of transformations by checking sample values."
      ],
      "metadata": {
        "id": "YeK_FDOMuQxN"
      }
    },
    {
      "cell_type": "markdown",
      "source": [
        "### 2.3 Handling Missing Values\n",
        "\n",
        "#### Objective:\n",
        "1. Identify missing values across datasets.\n",
        "2. Flag incomplete records for further analysis.\n",
        "\n",
        "#### Implementation:"
      ],
      "metadata": {
        "id": "tYnaSRbef6ZD"
      }
    },
    {
      "cell_type": "code",
      "source": [
        "# Check for missing values in each dataset\n",
        "print(\"Missing Values Count:\")\n",
        "print(\"Users Data:\\n\", users_df.isnull().sum())\n",
        "print(\"Receipts Data:\\n\", receipts_df.isnull().sum())\n",
        "print(\"Brands Data:\\n\", brands_df.isnull().sum())\n",
        "\n",
        "# Flag incomplete records\n",
        "incomplete_users = users_df[users_df.isnull().any(axis=1)]\n",
        "incomplete_receipts = receipts_df[receipts_df.isnull().any(axis=1)]\n",
        "print(f\"\\nIncomplete User Records: {len(incomplete_users)}\")\n",
        "print(f\"Incomplete Receipt Records: {len(incomplete_receipts)}\")\n"
      ],
      "metadata": {
        "colab": {
          "base_uri": "https://localhost:8080/"
        },
        "id": "cdEyxhL0f55m",
        "outputId": "859fc66c-0323-4675-9957-c93d27645eca"
      },
      "execution_count": 27,
      "outputs": [
        {
          "output_type": "stream",
          "name": "stdout",
          "text": [
            "Missing Values Count:\n",
            "Users Data:\n",
            " active           0\n",
            "role             0\n",
            "signUpSource     0\n",
            "state            0\n",
            "user_id          0\n",
            "createdDate      0\n",
            "lastLogin       62\n",
            "dtype: int64\n",
            "Receipts Data:\n",
            " bonusPointsEarned          575\n",
            "bonusPointsEarnedReason      0\n",
            "pointsEarned               510\n",
            "purchasedItemCount         484\n",
            "rewardsReceiptItemList       0\n",
            "rewardsReceiptStatus         0\n",
            "totalSpent                 435\n",
            "user_id                      0\n",
            "_id                          0\n",
            "createdDate                  0\n",
            "dateScanned                  0\n",
            "finishedDate               551\n",
            "modifyDate                   0\n",
            "pointsAwardedDate          582\n",
            "purchaseDate               448\n",
            "totalSpent_log             435\n",
            "dtype: int64\n",
            "Brands Data:\n",
            " barcode         0\n",
            "category        0\n",
            "categoryCode    0\n",
            "name            0\n",
            "top_brand       0\n",
            "brand_id        0\n",
            "cpg_id          0\n",
            "cpg_ref         0\n",
            "brandCode       0\n",
            "dtype: int64\n",
            "\n",
            "Incomplete User Records: 62\n",
            "Incomplete Receipt Records: 663\n"
          ]
        }
      ]
    },
    {
      "cell_type": "markdown",
      "source": [
        "#### Observations:\n",
        "- Users Dataset:\n",
        "   The lastLogin field has 62 missing values, meaning these users have no recorded login activity.\n",
        "Other critical fields such as active, role, signUpSource, and createdDate are fully populated, ensuring user records are mostly intact.\n",
        "\n",
        "- Receipts Dataset:\n",
        "\n",
        "  1. bonusPointsEarned (575 missing), pointsEarned (510 missing) –  Potential data entry gaps in reward point calculations.\n",
        "  2. purchasedItemCount (484 missing) – This could impact item-level purchase analytics.\n",
        "  3. totalSpent (435 missing) – Missing transaction values may skew financial insights.\n",
        "  4. purchaseDate (448 missing) – Essential for time-based analysis; missing dates may render these records unusable.\n",
        "  5. finishedDate (551 missing) & pointsAwardedDate (582 missing) – Indicates incomplete or unprocessed transactions.\n",
        "\n",
        "- Brands Dataset:\n",
        "  No missing values across all fields, indicating the brand data is well-structured and complete."
      ],
      "metadata": {
        "id": "UZRSogIr8IGZ"
      }
    },
    {
      "cell_type": "markdown",
      "source": [
        "### 2.4 Duplicate Detetction\n",
        "\n",
        "#### Objective:\n",
        "1. Identify duplicate records across datasets.\n",
        "2. Ensure primary key uniqueness (_id) to maintain data integrity.\n",
        "3. Handle list-type columns properly before duplicate detection.\n",
        "\n",
        "#### Implementation:"
      ],
      "metadata": {
        "id": "3ijaz6FCgj8M"
      }
    },
    {
      "cell_type": "code",
      "source": [
        "def check_duplicates(df, subset_key, dataset_name):\n",
        "    #Checking for duplicate rows and primary key duplicates, handling list-type columns.\n",
        "\n",
        "    # Converting any list-type columns to strings before checking for duplicates\n",
        "    for col in df.columns:\n",
        "        if df[col].apply(lambda x: isinstance(x, list)).any():  # Detect lists\n",
        "            df[col] = df[col].astype(str)  # Convert lists to strings\n",
        "\n",
        "    # Check full row duplicates\n",
        "    full_duplicates = df.duplicated().sum()\n",
        "\n",
        "    # Check for key-based duplicates if the key exists in the dataset\n",
        "    key_duplicates = df.duplicated(subset=[subset_key]).sum() if subset_key in df.columns else \"N/A\"\n",
        "\n",
        "    print(f\"\\n{dataset_name} Duplicate Records:\")\n",
        "    print(f\"- Full duplicates: {full_duplicates}\")\n",
        "\n",
        "check_duplicates(users_df, \"_id\", \"Users\")\n",
        "check_duplicates(receipts_df, \"_id\", \"Receipts\")\n",
        "check_duplicates(brands_df, \"_id\", \"Brands\")"
      ],
      "metadata": {
        "colab": {
          "base_uri": "https://localhost:8080/"
        },
        "id": "PGzHxSbQgwfu",
        "outputId": "44810e6b-2a1f-43eb-8fc8-92eae284f9ec"
      },
      "execution_count": 28,
      "outputs": [
        {
          "output_type": "stream",
          "name": "stdout",
          "text": [
            "\n",
            "Users Duplicate Records:\n",
            "- Full duplicates: 283\n",
            "\n",
            "Receipts Duplicate Records:\n",
            "- Full duplicates: 0\n",
            "\n",
            "Brands Duplicate Records:\n",
            "- Full duplicates: 0\n"
          ]
        }
      ]
    },
    {
      "cell_type": "markdown",
      "source": [
        "#### Observations:\n",
        "- Users Dataset: 283 full duplicates detected, indicating data redundancy.\n",
        "- Receipts Dataset: No full duplicates found, suggesting a clean dataset.\n",
        "- Brands Dataset: No full duplicates detected, ensuring data uniqueness."
      ],
      "metadata": {
        "id": "r7va2EUD-4pq"
      }
    },
    {
      "cell_type": "markdown",
      "source": [
        "## 3. Data Quality Checks"
      ],
      "metadata": {
        "id": "9IYcrCU8ZiAK"
      }
    },
    {
      "cell_type": "markdown",
      "source": [
        "### 3.1 Referential Integrity Check\n",
        "\n",
        "#### Objective:\n",
        "1. Ensure data consistency between the receipts and users datasets.\n",
        "2. Verify that all receipts have a corresponding user in the users dataset.\n",
        "3. Detect orphaned transactions (i.e., receipts linked to missing or invalid user IDs).\n",
        "\n",
        "#### Implementation:"
      ],
      "metadata": {
        "id": "X8Fv6o3jkugm"
      }
    },
    {
      "cell_type": "code",
      "source": [
        "# Referential Integrity Check: Identifying invalid receipts with non-existent user IDs\n",
        "invalid_receipts = receipts_df[~receipts_df['user_id'].isin(users_df['user_id'])]\n",
        "\n",
        "# Display the count of invalid receipts\n",
        "print(f\"\\nInvalid Receipts (User ID Not Found): {len(invalid_receipts)}\")\n"
      ],
      "metadata": {
        "colab": {
          "base_uri": "https://localhost:8080/"
        },
        "id": "2VlvejnGk0EI",
        "outputId": "af6a639a-1e7c-4d47-accb-973aabb6c56f"
      },
      "execution_count": 29,
      "outputs": [
        {
          "output_type": "stream",
          "name": "stdout",
          "text": [
            "\n",
            "Invalid Receipts (User ID Not Found): 148\n"
          ]
        }
      ]
    },
    {
      "cell_type": "markdown",
      "source": [
        "#### Observations:\n",
        "\n",
        "- 148 receipts have userId values that do not exist in the Users dataset.\n",
        "- These receipts are due to missing user records, data import errors, or deleted accounts."
      ],
      "metadata": {
        "id": "7xhIcwa3I4Jy"
      }
    },
    {
      "cell_type": "markdown",
      "source": [
        "### 3.2 Orphaned Data Detection\n",
        "\n",
        "#### Objective:\n",
        "1. Identify users who exist in the system but have never made a transaction.\n",
        "2. Ensure that the Users dataset aligns with the Receipts dataset by checking for users who do not have any receipts.\n",
        "3. Detect potential data quality issues, such as inactive or abandoned accounts.\n",
        "\n",
        "#### Implementation:"
      ],
      "metadata": {
        "id": "T84ZgosUk6N5"
      }
    },
    {
      "cell_type": "code",
      "source": [
        "# Orphaned Data Detection\n",
        "orphaned_users = users_df[~users_df['user_id'].isin(receipts_df['user_id'])]\n",
        "print(f\"\\nOrphaned User Records: {len(orphaned_users)}\")\n"
      ],
      "metadata": {
        "colab": {
          "base_uri": "https://localhost:8080/"
        },
        "id": "4Tddk-BmlAok",
        "outputId": "5a02dc28-3862-4944-c470-0a7088c6dfea"
      },
      "execution_count": 30,
      "outputs": [
        {
          "output_type": "stream",
          "name": "stdout",
          "text": [
            "\n",
            "Orphaned User Records: 77\n"
          ]
        }
      ]
    },
    {
      "cell_type": "markdown",
      "source": [
        "#### Observations:\n",
        "\n",
        "- 77 orphaned users were detected, meaning 77 users exist in the database without any associated receipts.\n",
        "- This could indicate inactive users, failed transactions, or onboarding drop-offs where users registered but never uploaded their receipts."
      ],
      "metadata": {
        "id": "pcfVQTopKJfy"
      }
    },
    {
      "cell_type": "markdown",
      "source": [
        "### 3.3 Stale User Detection\n",
        "\n",
        "#### Objective:\n",
        "1. Identify users who have not logged in for over six months based on the latest recorded login activity.\n",
        "2. Ensure dynamic detection by computing inactivity relative to the most recent login timestamp in the dataset, rather than hardcoding a static date.\n",
        "3. Assess potential user disengagement and detect accounts that may need re-engagement efforts.\n",
        "\n",
        "#### Implementation:"
      ],
      "metadata": {
        "id": "7FotqLxllGc5"
      }
    },
    {
      "cell_type": "code",
      "source": [
        "# Stale Use Detection\n",
        "max_last_login = users_df[\"lastLogin\"].max()\n",
        "inactive_threshold = max_last_login - pd.DateOffset(months=6)\n",
        "\n",
        "stale_users_dynamic = users_df[users_df[\"lastLogin\"] < inactive_threshold]\n",
        "print(f\"\\nUsers who have not logged in for 6+ months: {stale_users_dynamic.shape[0]}\")\n"
      ],
      "metadata": {
        "colab": {
          "base_uri": "https://localhost:8080/"
        },
        "id": "jxtPjlo2lMiP",
        "outputId": "7c8172eb-da71-4be1-edf8-efbce4bd4462"
      },
      "execution_count": 31,
      "outputs": [
        {
          "output_type": "stream",
          "name": "stdout",
          "text": [
            "\n",
            "Users who have not logged in for 6+ months: 1\n"
          ]
        }
      ]
    },
    {
      "cell_type": "markdown",
      "source": [
        "#### Results & Observations\n",
        "\n",
        "- 1 user have been inactive for over six months, indicating a potential drop-off in user engagement.\n",
        "- This insight can be used for re-engagement strategies, such as personalized promotions, reminders, or targeted outreach to bring back any inactive users."
      ],
      "metadata": {
        "id": "LS7HQIC0KxGy"
      }
    },
    {
      "cell_type": "markdown",
      "source": [
        "## 4. Outlier Analysis and Transformation"
      ],
      "metadata": {
        "id": "h71Yfty7Z3VT"
      }
    },
    {
      "cell_type": "markdown",
      "source": [
        "### 4.1 Outlier Detetction (IQR Method)\n",
        "\n",
        "#### Objective:\n",
        "1. Identify anomalous transactions by detecting extreme values in the totalSpent column.\n",
        "2. Ensure robust statistical filtering by applying the Interquartile Range (IQR) method, which dynamically determines thresholds based on data distribution.\n",
        "3. Improve data reliability by flagging and handling outliers that may indicate incorrect entries, fraud, or unusual spending behavior\n",
        "\n",
        "#### Implementation:"
      ],
      "metadata": {
        "id": "sPiSAYYDjfnF"
      }
    },
    {
      "cell_type": "code",
      "source": [
        "# Outlier detection using Interquartile range (IQR)\n",
        "def detect_outliers_iqr(df, column):\n",
        "\n",
        "    if column in df.columns:\n",
        "        df[column] = pd.to_numeric(df[column], errors=\"coerce\")  # Ensure column is numeric\n",
        "        df = df.dropna(subset=[column])  # Remove null values\n",
        "\n",
        "        # IQR thresholds\n",
        "        Q1 = df[column].quantile(0.25)\n",
        "        Q3 = df[column].quantile(0.75)\n",
        "        IQR = Q3 - Q1\n",
        "        lower_bound = Q1 - 1.5 * IQR\n",
        "        upper_bound = Q3 + 1.5 * IQR\n",
        "\n",
        "        # Identifying outliers\n",
        "        outliers = df[(df[column] < lower_bound) | (df[column] > upper_bound)]\n",
        "\n",
        "        print(f\"\\nOutliers detected in {column}: {len(outliers)}\")\n",
        "        return outliers\n",
        "    else:\n",
        "        print(f\"\\nColumn '{column}' not found in dataset.\")\n",
        "        return pd.DataFrame()\n",
        "\n",
        "# Outlier detection for totalSpent\n",
        "outliers_total_spent = detect_outliers_iqr(receipts_df, \"totalSpent\")\n"
      ],
      "metadata": {
        "colab": {
          "base_uri": "https://localhost:8080/"
        },
        "id": "dFz9FnrHgkZB",
        "outputId": "b8fb77ce-d616-45ff-d813-8cf7438ebfab"
      },
      "execution_count": 32,
      "outputs": [
        {
          "output_type": "stream",
          "name": "stdout",
          "text": [
            "\n",
            "Outliers detected in totalSpent: 55\n"
          ]
        }
      ]
    },
    {
      "cell_type": "markdown",
      "source": [
        "#### Observations:\n",
        "55 transactions were identified as outliers in totalSpent.\n",
        "These extreme values may indicate fraudulent transactions, data entry errors, or high-value purchases."
      ],
      "metadata": {
        "id": "HZzQU8Ro_3aL"
      }
    },
    {
      "cell_type": "markdown",
      "source": [
        "### 4.2 Log Transformation & Data Distribution\n",
        "\n",
        "#### Objective:\n",
        "1. Detect outliers in totalSpent using boxplots and histograms.\n",
        "2. Analyze the distribution of spending patterns.\n",
        "3. Apply log transformation (log1p) to handle extreme skewness in the data.\n",
        "4. Identify spending behavior trends to improve data-driven decision-making.\n",
        "\n",
        "#### Implementation:\n",
        "\n"
      ],
      "metadata": {
        "id": "nbgS9xUAlWxX"
      }
    },
    {
      "cell_type": "code",
      "source": [
        "# Avoid log transformation on zero or negative values\n",
        "receipts_df[\"totalSpent_log\"] = np.log1p(receipts_df[\"totalSpent\"])  # log(1+x) transformation to handle zero values\n",
        "\n",
        "plt.figure(figsize=(14, 6))\n",
        "\n",
        "# Boxplot (Raw Data)\n",
        "plt.subplot(1, 3, 1)\n",
        "sns.boxplot(x=receipts_df[\"totalSpent\"], color=\"blue\")\n",
        "plt.title(\"Boxplot of Total Spent (Raw)\")\n",
        "\n",
        "# Histogram & KDE Plot (Raw Data)\n",
        "plt.subplot(1, 3, 2)\n",
        "sns.histplot(receipts_df[\"totalSpent\"], bins=50, kde=True, color=\"green\")\n",
        "plt.title(\"Distribution of Total Spent (Raw Data)\")\n",
        "\n",
        "# Histogram & KDE Plot (Log-Transformed)\n",
        "plt.subplot(1, 3, 3)\n",
        "sns.histplot(receipts_df[\"totalSpent_log\"], bins=50, kde=True, color=\"purple\")\n",
        "plt.title(\"Distribution of Log-Transformed Total Spent\")\n",
        "\n",
        "plt.tight_layout()\n",
        "plt.show()\n"
      ],
      "metadata": {
        "colab": {
          "base_uri": "https://localhost:8080/",
          "height": 607
        },
        "id": "mZqOGMrGLks1",
        "outputId": "f00c7017-ada6-4098-e8c5-6d9ff0b61036"
      },
      "execution_count": 33,
      "outputs": [
        {
          "output_type": "display_data",
          "data": {
            "text/plain": [
              "<Figure size 1400x600 with 3 Axes>"
            ],
            "image/png": "[encoded data removed]"
          },
          "metadata": {}
        }
      ]
    },
    {
      "cell_type": "markdown",
      "source": [
        "#### Observations:\n",
        "\n",
        "- Boxplot of Total Spent (Raw Data) :\n",
        "  Several high-value transactions (outliers) are visible.\n",
        "Most purchases are clustered at low spending values, with extreme cases reaching thousands of dollars.\n",
        "\n",
        "- Distribution of Total Spent (Raw Data):\n",
        "  The histogram is highly right-skewed, indicating a few very high-spending receipts.\n",
        "The majority of transactions are low-value, confirming an uneven distribution.\n",
        "\n",
        "- Distribution of Log-Transformed Total Spent: The log transformation smooths the distribution, making spending patterns easier to interpret.\n",
        "Bimodal peaks suggest two groups of spenders:\n",
        "    1. Low spenders (~$1 to ~$10) dollars,\n",
        "    2. Higher spenders (~$20+), potentially repeat customers or bulk buyers.\n",
        "\n",
        "  The KDE (Kernel Density Estimate) shows a less skewed, more normal-like distribution."
      ],
      "metadata": {
        "id": "-Xd79Hh_MyY0"
      }
    },
    {
      "cell_type": "markdown",
      "source": [
        "## 5. Data Quality Action Plan\n",
        "\n",
        "![image.png](data:image/png;base64,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)\n",
        "\n",
        "#### Short-Term Fixes\n",
        "1. Validate user logins at input to prevent missing records.\n",
        "2. Enforce referential integrity for receipts to ensure valid user references.\n",
        "3. Apply imputation for missing reward-related fields (e.g., set bonusPointsEarned = 0)\n",
        "\n",
        "#### Long-term Enhancements\n",
        "1. Automate anomaly detection using Snowflake ML to flag extreme transactions dynamically.\n",
        "2. Deploy Snowflake Data Pipelines for real-time data validation and cleansing.\n",
        "3. Integrate Snowflake with cloud-based ETL tools (AWS Glue, DBT, or Airflow) to enforce quality checks at ingestion.\n",
        "4. Leverage Snowflake's Snowpipe for Streaming Data to ensure real-time ingestion and validation.\n",
        "5. Set up Snowflake Alerts and Notifications for missing timestamps and referential integrity issues.\n",
        "6. Store transactional logs in cloud-based storage (AWS S3, Azure Blob) for long-term auditing and compliance.\n",
        "\n",
        "Implementing these enhancements will streamline data ingestion, improve validation accuracy, and ensure robust data quality. These improvements will also facilitate more reliable analysis, enabling data-driven decision-making for business insights."
      ],
      "metadata": {
        "id": "Tx4pBplpYPC7"
      }
    },
    {
      "cell_type": "markdown",
      "source": [
        "## 6. Key Findings & Next Steps\n",
        "\n",
        "- Address Data Gaps: Investigate missing receipts and user references to mitigate data loss risks.\n",
        "- Improve Data Consistency: Implement validation rules to enforce financial completeness and ensure transaction integrity.\n",
        "- Enhance Outlier Handling: Integrate anomaly detection for extreme financial transactions (e.g., similar to UserFlagged in the Receipts table).\n",
        "- Automate Data Quality Processes: Deploy Snowflake data quality pipelines with integrity constraints and automated alerts for inconsistencies."
      ],
      "metadata": {
        "id": "eFtzCXNhYS1c"
      }
    },
    {
      "cell_type": "markdown",
      "source": [
        "Note: The Data Quality Analysis presented in this report is based on the information provided in the sample data files. Certain assumptions were made based on contextual insights and an understanding of Fetch’s operations to enhance the evaluation.\n",
        "\n",
        "\n",
        "\n",
        "\n",
        "\n",
        "\n",
        "\n"
      ],
      "metadata": {
        "id": "EnZcgdxOwgBp"
      }
    }
  ]
}